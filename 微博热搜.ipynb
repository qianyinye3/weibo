{
 "cells": [
  {
   "cell_type": "markdown",
   "metadata": {},
   "source": [
    "# 谁是顶级流量？爬取微博热搜两年数据的结果"
   ]
  },
  {
   "cell_type": "markdown",
   "metadata": {},
   "source": [
    "### 一、爬取微博热搜神器网站"
   ]
  },
  {
   "cell_type": "code",
   "execution_count": 94,
   "metadata": {},
   "outputs": [],
   "source": [
    "#根据网站特征，分析URL的规律，发现是按照日期变动的，因此迭代出此时间段内所有的日期\n",
    "import datetime\n",
    "def dateRange(start, end, step=1, format=\"%Y/%m/%d\"):\n",
    "    strptime, strftime = datetime.datetime.strptime, datetime.datetime.strftime\n",
    "    days = (strptime(end, format) - strptime(start, format)).days\n",
    "    return [strftime(strptime(start, format) + datetime.timedelta(i), format) for i in range(0, days, step)]"
   ]
  },
  {
   "cell_type": "code",
   "execution_count": 97,
   "metadata": {},
   "outputs": [],
   "source": [
    " if __name__ == '__main__':\n",
    "    dates = dateRange(\"2017/05/09\", \"2019/04/05\")"
   ]
  },
  {
   "cell_type": "code",
   "execution_count": 99,
   "metadata": {},
   "outputs": [],
   "source": [
    "#将迭代的日期放入URL中，并逐个爬取网站，存入到dict中。\n",
    "import requests\n",
    "import pandas as pd\n",
    "import json\n",
    "headers = {\"Accept-Language\": \"en-US, en;q=0.5\"}\n",
    "Keyword = {}\n",
    "URL = {}\n",
    "Count = {}\n",
    "SearchCount = {}\n",
    "Rank = {}\n",
    "for i in dates:\n",
    "    re = requests.get('http://www.enlightent.com/research/top/getWeiboHotSearchDayAggs.do?date='+i)\n",
    "    re.encoding = 'utf-8'    \n",
    "    text = re.text\n",
    "    jsonobj = json.loads(text)\n",
    "\n",
    "    for item in jsonobj:\n",
    "        keyword = item['keyword']\n",
    "        Keyword[keyword]={}\n",
    "\n",
    "        url = item['url']\n",
    "        URL[url]={}\n",
    "\n",
    "        count = item['count']\n",
    "        Count[count]={}\n",
    "\n",
    "        searchCount = item['searchCount']\n",
    "        SearchCount[searchCount]={}\n",
    "\n",
    "        rank = item['rank']\n",
    "        Rank[rank]={}"
   ]
  },
  {
   "cell_type": "code",
   "execution_count": 100,
   "metadata": {},
   "outputs": [
    {
     "data": {
      "text/plain": [
       "114481"
      ]
     },
     "execution_count": 100,
     "metadata": {},
     "output_type": "execute_result"
    }
   ],
   "source": [
    "len(Keyword)"
   ]
  },
  {
   "cell_type": "code",
   "execution_count": 102,
   "metadata": {},
   "outputs": [
    {
     "name": "stdout",
     "output_type": "stream",
     "text": [
      "<class 'pandas.core.frame.DataFrame'>\n",
      "RangeIndex: 138184 entries, 0 to 138183\n",
      "Data columns (total 5 columns):\n",
      "Keyword        114481 non-null object\n",
      "URL            115747 non-null object\n",
      "Count          144 non-null object\n",
      "SearchCount    138184 non-null object\n",
      "Rank           50 non-null object\n",
      "dtypes: object(5)\n",
      "memory usage: 5.3+ MB\n",
      "None\n"
     ]
    }
   ],
   "source": [
    "#将所有内容存入到csv文件中\n",
    "import csv\n",
    "datapage1 = {\n",
    "    'Keyword':Keyword.keys(),\n",
    "    'URL':URL.keys(),\n",
    "    'Count': Count.keys(),\n",
    "    'SearchCount':SearchCount.keys(),\n",
    "    'Rank': Rank.keys(),\n",
    "}\n",
    "weibo = pd.DataFrame.from_dict(datapage1, orient ='index').transpose()\n",
    "print(weibo.info())\n",
    "weibo.to_csv('weibo_rank_all.csv',index = False, encoding = 'utf_8_sig')"
   ]
  },
  {
   "cell_type": "markdown",
   "metadata": {},
   "source": [
    "### 二、 对爬取内容进行分词处理"
   ]
  },
  {
   "cell_type": "code",
   "execution_count": 228,
   "metadata": {},
   "outputs": [],
   "source": [
    "# n-gram，对爬取的文字进行分词。\n",
    "import re\n",
    "n=10\n",
    "wdict = {}\n",
    "with open('word_n2.txt','r',encoding=\"utf-8\") as f:\n",
    "    for line in f:\n",
    "        line = line.strip(\"\\n\")\n",
    "        clean = re.sub(r' ','',line)\n",
    "        for i in range(len(clean)):\n",
    "            word = clean[i:i+n]\n",
    "            if word in wdict:\n",
    "                count = wdict[word]\n",
    "            else:\n",
    "                count=0\n",
    "            count = count + 1\n",
    "            wdict[word]=count    \n",
    "wdict = sorted(wdict.items(),key=lambda item:item[1],reverse=True)\n",
    "wordcount = len(wdict) "
   ]
  },
  {
   "cell_type": "code",
   "execution_count": 229,
   "metadata": {},
   "outputs": [],
   "source": [
    "#将n=2,n=3,n=4,n=5,....直到n=10的词汇存入到同一个文件之中\n",
    "with open('weibo_word_all.txt','a', encoding ='utf-8') as f:\n",
    "    for i in wdict:\n",
    "        f.write(i[0] + '\\t' +str(i[1])+'\\n')"
   ]
  },
  {
   "cell_type": "code",
   "execution_count": 211,
   "metadata": {},
   "outputs": [],
   "source": [
    "f.close()"
   ]
  },
  {
   "cell_type": "code",
   "execution_count": 239,
   "metadata": {},
   "outputs": [],
   "source": [
    "#找出词汇出现频率大于500的词汇，共有30个\n",
    "import codecs\n",
    "import re\n",
    "from collections import Counter\n",
    "f1 = codecs.open('weibo_word_all.txt','r', encoding='utf-8',errors = \"ignore\")\n",
    "dict1={}\n",
    "for line in f1.readlines('\\n'):\n",
    "    line = line.strip('\\n')\n",
    "    line = line.split('\\t')\n",
    "    if \"..\" not in line:\n",
    "        if \"...\" not in line:\n",
    "            if len(line[0])>1:\n",
    "                if int(line[1])>500:\n",
    "                    dict1[line[0]]=int(line[1])  "
   ]
  },
  {
   "cell_type": "code",
   "execution_count": 240,
   "metadata": {},
   "outputs": [
    {
     "data": {
      "text/plain": [
       "30"
      ]
     },
     "execution_count": 240,
     "metadata": {},
     "output_type": "execute_result"
    }
   ],
   "source": [
    "len(dict1)"
   ]
  },
  {
   "cell_type": "code",
   "execution_count": 241,
   "metadata": {},
   "outputs": [
    {
     "name": "stdout",
     "output_type": "stream",
     "text": [
      "{'中国': 2329, '00': 2084, '回应': 1826, '20': 1705, '10': 1171, '学生': 1132, '世界': 965, '大学': 863, '朋友': 852, '01': 849, '什么': 745, '孩子': 729, '手机': 709, '日本': 674, '18': 674, '0万': 654, '女儿': 651, '男子': 648, '美国': 640, '北京': 637, '30': 634, '女孩': 620, '一个': 605, '妈妈': 603, '第一': 579, '50': 575, 'ne': 518, '女生': 514, '自己': 511, '201': 732}\n"
     ]
    }
   ],
   "source": [
    "# 微博热搜榜出现频次前30的词汇\n",
    "print(dict1)"
   ]
  },
  {
   "cell_type": "code",
   "execution_count": 242,
   "metadata": {},
   "outputs": [
    {
     "name": "stdout",
     "output_type": "stream",
     "text": [
      "30\n"
     ]
    }
   ],
   "source": [
    "#将结果存入到csv中\n",
    "dict1 = sorted(dict1.items(),key=lambda item:item[1],reverse=True) \n",
    "wordcount = len(dict1)\n",
    "print(wordcount)\n",
    "with open('weiboword_large500.txt','w', encoding ='utf-8') as f:\n",
    "    for i in dict1:\n",
    "        f.write(i[0] + '\\t' +str(i[1])+'\\n')"
   ]
  },
  {
   "cell_type": "markdown",
   "metadata": {},
   "source": [
    "### 三、将网站爬取的和自行输入的明星人民txt导入为词包，进行匹配"
   ]
  },
  {
   "cell_type": "code",
   "execution_count": 308,
   "metadata": {},
   "outputs": [],
   "source": [
    "#爬取网站的明星人名存为txt词典\n",
    "names = []\n",
    "f2 = codecs.open('names.txt','r', encoding='utf-8',errors = \"ignore\").readlines()\n",
    "for line in f2:\n",
    "    line = line.strip('\\ufeff')\n",
    "    line = line.strip('\\r\\n')\n",
    "    names.append(line)"
   ]
  },
  {
   "cell_type": "code",
   "execution_count": 309,
   "metadata": {},
   "outputs": [
    {
     "data": {
      "text/plain": [
       "364"
      ]
     },
     "execution_count": 309,
     "metadata": {},
     "output_type": "execute_result"
    }
   ],
   "source": [
    "#共有364个人名\n",
    "len(names)"
   ]
  },
  {
   "cell_type": "code",
   "execution_count": 310,
   "metadata": {},
   "outputs": [],
   "source": [
    "#将分词的词典导入，并索引人名及频次。\n",
    "import codecs\n",
    "import re\n",
    "from collections import Counter\n",
    "f1 = codecs.open('weibo_word_all.txt','r', encoding='utf-8',errors = \"ignore\")\n",
    "dict2={}\n",
    "for line in f1.readlines('\\n'):\n",
    "    line = line.strip('\\n')\n",
    "    line = line.split('\\t')\n",
    "    if line[0] in names:\n",
    "        dict2[line[0]]=int(line[1]) "
   ]
  },
  {
   "cell_type": "code",
   "execution_count": 311,
   "metadata": {},
   "outputs": [
    {
     "data": {
      "text/plain": [
       "328"
      ]
     },
     "execution_count": 311,
     "metadata": {},
     "output_type": "execute_result"
    }
   ],
   "source": [
    "#在分好的词汇中，共找到328个明星人名\n",
    "len(dict2)"
   ]
  },
  {
   "cell_type": "code",
   "execution_count": 325,
   "metadata": {},
   "outputs": [],
   "source": [
    "namedict = sorted(dict2.items(),key=lambda item:item[1],reverse=True)"
   ]
  },
  {
   "cell_type": "code",
   "execution_count": 327,
   "metadata": {},
   "outputs": [],
   "source": [
    "#devide the tunple in list\n",
    "starname = []\n",
    "count = []\n",
    "for i in Namelist:\n",
    "    starname.append(i[0])\n",
    "    count.append(i[1])"
   ]
  },
  {
   "cell_type": "code",
   "execution_count": 330,
   "metadata": {},
   "outputs": [
    {
     "name": "stdout",
     "output_type": "stream",
     "text": [
      "['周杰伦', '鹿晗', '杨幂', '易烊千玺', '蔡徐坤', '王俊凯', 'Angelababy', '赵丽颖', '薛之谦', '范冰冰']\n"
     ]
    }
   ],
   "source": [
    "#上榜次数最多的为以下明星\n",
    "top10 = starname[:10]\n",
    "frequency = count[:10]\n",
    "print(top10)"
   ]
  },
  {
   "cell_type": "markdown",
   "metadata": {},
   "source": [
    "### 四、可视化结果"
   ]
  },
  {
   "cell_type": "code",
   "execution_count": 377,
   "metadata": {},
   "outputs": [
    {
     "data": {
      "text/plain": [
       "<Figure size 9000x8000 with 0 Axes>"
      ]
     },
     "metadata": {},
     "output_type": "display_data"
    },
    {
     "data": {
      "image/png": "[encoded data removed]",
      "text/plain": [
       "<Figure size 1200x800 with 1 Axes>"
      ]
     },
     "metadata": {},
     "output_type": "display_data"
    }
   ],
   "source": [
    "# -*- coding: utf-8 -*-\n",
    "import matplotlib.pyplot as plt\n",
    "import numpy as np\n",
    "from IPython.core.pylabtools import figsize \n",
    "\n",
    "plt.rcParams['font.sans-serif']=['SimHei']\n",
    "plt.rcParams['axes.unicode_minus'] = False \n",
    "#创建绘图图表对象，可以不显式创建，跟cv2中的cv2.namedWindow()用法差不多\n",
    "plt.figure(figsize=(45,40))\n",
    "plt.figure('Draw')\n",
    "plt.rcParams['savefig.dpi'] = 300 #图片像素\n",
    "plt.rcParams['figure.dpi'] = 300 #分辨率\n",
    "plt.title(\"近两年微博热搜次数top 10的明星统计_粗略版_by yqy\")\n",
    "plt.bar(top10,frequency,color = \"deeppink\")  # plot绘制折线图\n",
    "plt.xticks(top10, rotation=50)# 第一个参数是值，第二个参数是对应的显示效果(若无传入则默认直接显示原始数据)，第三个参数是标签旋转角度\n",
    "plt.xlabel(r'明星名字')\n",
    "plt.ylabel(r'上榜次数')\n",
    "plt.savefig(\"top10star.jpg\")  #保存图象\n",
    "plt.draw()  # 显示绘图\n",
    "plt.pause(5)  #显示5秒\n",
    "plt.close() "
   ]
  },
  {
   "cell_type": "code",
   "execution_count": null,
   "metadata": {},
   "outputs": [],
   "source": [
    "import numpy as np\n",
    "import networkx as nx\n",
    "import matplotlib.pyplot as plt\n",
    "%matplotlib inline\n",
    "plt.hist(namedict,rwidth=0.9,facecolor = 'c',alpha = 0.5)\n",
    "plt.grid(True)\n",
    "plt.xlabel('Name')\n",
    "plt.ylabel('Frequency Percentage')"
   ]
  },
  {
   "cell_type": "code",
   "execution_count": 23,
   "metadata": {},
   "outputs": [],
   "source": [
    "from selenium import webdriver  \n",
    "import time \n",
    "import re\n",
    "from lxml import etree\n",
    "from bs4 import BeautifulSoup\n",
    "import bs4 as bs\n",
    "from selenium.common.exceptions import NoSuchElementException \n",
    "from selenium.webdriver.common.by import By \n",
    "from selenium.webdriver.support.ui import WebDriverWait \n",
    "from selenium.webdriver.support import expected_conditions as EC \n",
    "import pandas as pd\n",
    "\n",
    "#browser = webdriver.Firefox()#Chrome('./chromedriver.exe') \n",
    "   \n",
    "# For every page in the interval\n",
    "PATIENCE_TIME = 60 \n",
    "driver = webdriver.Chrome() \n",
    "#driver.get('http://www.enlightent.com/research/rank/weiboSearchRank?dt_dapp=1#') \n",
    "driver.get(\"http://www.enlightent.com/research/top/getWeiboHotSearchDayAggs.do?date=2018/06/27\")\n",
    "driver.encoding = 'utf-8'\n",
    "driver.maximize_window()\n",
    "html = driver.page_source\n",
    "soup = BeautifulSoup(html,'lxml')\n",
    "driver.close()"
   ]
  },
  {
   "cell_type": "code",
   "execution_count": 24,
   "metadata": {},
   "outputs": [],
   "source": [
    "Title = []\n",
    "Search_number = []\n",
    "Time_on_hotsearch = []\n",
    "Highest_rank = []\n",
    "\n",
    "hot_search_containers = soup.find_all('div', class_='card')\n",
    "for container in hot_search_containers:\n",
    "    #find all the date of the news\n",
    "    try: \n",
    "        for title in container.find_all('h3',class_=\"card-keyword\"):\n",
    "            Title.append(title.text)\n",
    "    except: \n",
    "        title = \"no_title\"\n",
    "        Title.append(title)\n",
    "        \n",
    "for container in hot_search_containers:\n",
    "    #find all the date of the news\n",
    "    try: \n",
    "        for search_number in container.find_all('p',class_=\"search-count right\"): #maybe search-count right\n",
    "            Search_number.append(search_number.text)\n",
    "    except: \n",
    "        search_number = \"no_search_number\"\n",
    "        Search_number.append(search_number)\n",
    "        \n",
    "for container in hot_search_containers:\n",
    "    #find all the date of the news\n",
    "    try: \n",
    "        for time_on_hotsearch in container.find_all('p',class_=\"left\"): \n",
    "            Time_on_hotsearch.append(time_on_hotsearch.text)\n",
    "    except: \n",
    "        time_on_hotsearch = \"no_time_on_hotsearch\"\n",
    "        Time_on_hotsearch.append(time_on_hotsearch)   \n",
    "        \n",
    "for container in hot_search_containers:\n",
    "    #find all the date of the news\n",
    "    try: \n",
    "        for highest_rank in container.find('div',class_=\"card-other clear\").find_all('p',class_=\"right\"): \n",
    "            Highest_rank.append(highest_rank.text)\n",
    "    except: \n",
    "        highest_rank = \"no_highest_rank\"\n",
    "        Highest_rank.append(highest_rank)       "
   ]
  },
  {
   "cell_type": "code",
   "execution_count": 25,
   "metadata": {},
   "outputs": [
    {
     "name": "stdout",
     "output_type": "stream",
     "text": [
      "[]\n"
     ]
    }
   ],
   "source": [
    "print(Title)"
   ]
  },
  {
   "cell_type": "code",
   "execution_count": 26,
   "metadata": {},
   "outputs": [
    {
     "name": "stdout",
     "output_type": "stream",
     "text": [
      "[]\n"
     ]
    }
   ],
   "source": [
    "print(Search_number)"
   ]
  },
  {
   "cell_type": "code",
   "execution_count": 21,
   "metadata": {},
   "outputs": [
    {
     "name": "stdout",
     "output_type": "stream",
     "text": [
      "['前72小时累计在榜：2小时50分', '前72小时累计在榜：2小时30分', '前72小时累计在榜：3小时40分', '前72小时累计在榜：0小时30分', '前72小时累计在榜：2小时10分', '前72小时累计在榜：1小时50分', '前72小时累计在榜：4小时10分', '前72小时累计在榜：5小时40分', '前72小时累计在榜：2小时30分', '前72小时累计在榜：2小时50分', '前72小时累计在榜：3小时40分', '前72小时累计在榜：0小时30分', '前72小时累计在榜：0小时20分', '前72小时累计在榜：1小时10分', '前72小时累计在榜：1小时0分', '前72小时累计在榜：6小时10分', '前72小时累计在榜：0小时20分', '前72小时累计在榜：2小时30分', '前72小时累计在榜：1小时10分', '前72小时累计在榜：3小时40分', '前72小时累计在榜：2小时10分', '前72小时累计在榜：3小时0分', '前72小时累计在榜：7小时0分', '前72小时累计在榜：4小时10分', '前72小时累计在榜：6小时50分', '前72小时累计在榜：4小时10分', '前72小时累计在榜：2小时20分', '前72小时累计在榜：2小时0分', '前72小时累计在榜：1小时40分', '前72小时累计在榜：8小时40分', '前72小时累计在榜：1小时50分', '前72小时累计在榜：10小时40分', '前72小时累计在榜：4小时0分', '前72小时累计在榜：5小时50分', '前72小时累计在榜：1小时50分', '前72小时累计在榜：5小时30分', '前72小时累计在榜：5小时40分', '前72小时累计在榜：8小时50分', '前72小时累计在榜：5小时20分', '前72小时累计在榜：0小时40分', '前72小时累计在榜：9小时50分', '前72小时累计在榜：0小时20分', '前72小时累计在榜：6小时20分', '前72小时累计在榜：4小时30分', '前72小时累计在榜：9小时50分', '前72小时累计在榜：0小时10分', '前72小时累计在榜：4小时0分', '前72小时累计在榜：0小时10分', '前72小时累计在榜：3小时40分', '前72小时累计在榜：9小时50分']\n"
     ]
    }
   ],
   "source": [
    "print(Time_on_hotsearch)"
   ]
  },
  {
   "cell_type": "code",
   "execution_count": 22,
   "metadata": {},
   "outputs": [
    {
     "name": "stdout",
     "output_type": "stream",
     "text": [
      "['微博热搜历史最高排名：1', '微博热搜历史最高排名：2', '微博热搜历史最高排名：2', '微博热搜历史最高排名：4', '微博热搜历史最高排名：5', '微博热搜历史最高排名：6', '微博热搜历史最高排名：1', '微博热搜历史最高排名：4', '微博热搜历史最高排名：7', '微博热搜历史最高排名：6', '微博热搜历史最高排名：5', '微博热搜历史最高排名：12', '微博热搜历史最高排名：13', '微博热搜历史最高排名：11', '微博热搜历史最高排名：12', '微博热搜历史最高排名：1', '微博热搜历史最高排名：17', '微博热搜历史最高排名：17', '微博热搜历史最高排名：18', '微博热搜历史最高排名：16', '微博热搜历史最高排名：11', '微博热搜历史最高排名：16', '微博热搜历史最高排名：2', '微博热搜历史最高排名：16', '微博热搜历史最高排名：21', '微博热搜历史最高排名：5', '微博热搜历史最高排名：26', '微博热搜历史最高排名：15', '微博热搜历史最高排名：20', '微博热搜历史最高排名：1', '微博热搜历史最高排名：28', '微博热搜历史最高排名：1', '微博热搜历史最高排名：17', '微博热搜历史最高排名：2', '微博热搜历史最高排名：32', '微博热搜历史最高排名：16', '微博热搜历史最高排名：10', '微博热搜历史最高排名：10', '微博热搜历史最高排名：25', '微博热搜历史最高排名：40', '微博热搜历史最高排名：16', '微博热搜历史最高排名：42', '微博热搜历史最高排名：10', '微博热搜历史最高排名：5', '微博热搜历史最高排名：8', '微博热搜历史最高排名：46', '微博热搜历史最高排名：31', '微博热搜历史最高排名：48', '微博热搜历史最高排名：23', '微博热搜历史最高排名：11']\n"
     ]
    }
   ],
   "source": [
    "print(Highest_rank)"
   ]
  },
  {
   "cell_type": "code",
   "execution_count": null,
   "metadata": {},
   "outputs": [],
   "source": [
    "div class = \"content show-footer\""
   ]
  }
 ],
 "metadata": {
  "kernelspec": {
   "display_name": "Python 3",
   "language": "python",
   "name": "python3"
  },
  "language_info": {
   "codemirror_mode": {
    "name": "ipython",
    "version": 3
   },
   "file_extension": ".py",
   "mimetype": "text/x-python",
   "name": "python",
   "nbconvert_exporter": "python",
   "pygments_lexer": "ipython3",
   "version": "3.6.5"
  }
 },
 "nbformat": 4,
 "nbformat_minor": 2
}
